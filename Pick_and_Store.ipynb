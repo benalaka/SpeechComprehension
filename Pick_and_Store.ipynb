{
  "nbformat": 4,
  "nbformat_minor": 0,
  "metadata": {
    "colab": {
      "provenance": [],
      "include_colab_link": true
    },
    "kernelspec": {
      "name": "python3",
      "display_name": "Python 3"
    },
    "language_info": {
      "name": "python"
    }
  },
  "cells": [
    {
      "cell_type": "markdown",
      "metadata": {
        "id": "view-in-github",
        "colab_type": "text"
      },
      "source": [
        "<a href=\"https://colab.research.google.com/github/benalaka/SpeechComprehension/blob/main/Pick_and_Store.ipynb\" target=\"_parent\"><img src=\"https://colab.research.google.com/assets/colab-badge.svg\" alt=\"Open In Colab\"/></a>"
      ]
    },
    {
      "cell_type": "markdown",
      "source": [
        "***The Pick and Store Script Does the following:***\n",
        "1. Loops through the dataset folder, and checks if the number of strings exceeds one word\n",
        "2. If it exceeds one word, record the name of the file alongside the appropriate .wav extension"
      ],
      "metadata": {
        "id": "bdLwhyaECDus"
      }
    },
    {
      "cell_type": "markdown",
      "source": [
        "*Connect to Google Drive*"
      ],
      "metadata": {
        "id": "F7FuaKK8FBSZ"
      }
    },
    {
      "cell_type": "code",
      "source": [
        "from google.colab import drive\n",
        "drive.mount('/content/drive')\n",
        "path_audio=\"/content/drive/MyDrive/Log_PhD/wav\"\n",
        "path_prompts=\"/content/drive/MyDrive/Log_PhD/prompts\"\n",
        "new_path_audio=\"/content/drive/MyDrive/Log_PhD/wav_dataset\""
      ],
      "metadata": {
        "colab": {
          "base_uri": "https://localhost:8080/"
        },
        "id": "QsT7KRr1E_dB",
        "outputId": "fb2f4f53-5118-49f1-95af-dd05a0b6ce74"
      },
      "execution_count": 1,
      "outputs": [
        {
          "output_type": "stream",
          "name": "stdout",
          "text": [
            "Mounted at /content/drive\n"
          ]
        }
      ]
    },
    {
      "cell_type": "markdown",
      "source": [
        "*Define the file type*"
      ],
      "metadata": {
        "id": "wnQ2dEfzGGCL"
      }
    },
    {
      "cell_type": "code",
      "source": [
        "# Import Module\n",
        "import os\n",
        "import shutil\n",
        "\n",
        "# Folder Path\n",
        "path = path_prompts\n",
        "path2 = path_audio\n",
        "\n",
        "# Change the directory\n",
        "os.chdir(path)\n",
        "\n",
        "# Read text File\n",
        "\n",
        "\n",
        "def read_text_file(file_path):\n",
        "  with open(file_path, 'r') as f:\n",
        "    words = f.read()\n",
        "    lines = words.split()\n",
        "    number_of_words = len(lines)\n",
        "    #print(words)\n",
        "    #print(number_of_words)\n",
        "    return number_of_words\n",
        "\n",
        "\n",
        "# iterate through all file\n",
        "for file in os.listdir():\n",
        "\t# Check whether file is in text format or not\n",
        "  if file.endswith(\".txt\"):\n",
        "   file_path = f\"{path}/{file}\"\n",
        "\n",
        "\t# call read text file function, get file names of prompts with words higher than 2, append a .wav extension and copy to the wav_dataset folder\n",
        "  if read_text_file(file_path)>=2:\n",
        "    pathname =os.path.basename(file_path)\n",
        "    full_filename = pathname.split('.')\n",
        "    filename = full_filename[0]+\".wav\"\n",
        "    print(filename)\n",
        "    source_path = f\"{path2}/{filename}\"\n",
        "    shutil.copy2(source_path, new_path_audio)\n",
        "\n"
      ],
      "metadata": {
        "id": "3A6nrbFJNV3x"
      },
      "execution_count": null,
      "outputs": []
    }
  ]
}